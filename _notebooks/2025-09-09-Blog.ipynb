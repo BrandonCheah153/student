{
 "cells": [
  {
   "cell_type": "raw",
   "metadata": {
    "vscode": {
     "languageId": "raw"
    }
   },
   "source": [
    "---\n",
    "title: First Blog\n",
    "comments: true\n",
    "layout: post\n",
    "permalink: /myfirstblog\n",
    "description: First Blog\n",
    "author: Brandon Cheah\n",
    "---\n"
   ]
  },
  {
   "cell_type": "markdown",
   "metadata": {},
   "source": [
    "# My First Blog Post\n",
    "\n",
    "This is my very first blog on GitHub Pages! I wanted to make it fun, but also a place where I can reflect on what I’ve already done in **Computer Science Principles** so far.\n",
    "\n",
    "## Jupyter Notebooks\n",
    "\n",
    "One of the first tools I learned was **Jupyter Notebooks**.  \n",
    "It felt like a mix between coding and note-taking, which made it really useful for experimenting with Python. I could write code, run it, and instantly see the output underneath. For example, I remember writing a simple `for` loop that printed jokes one line at a time—like a accountant joke that didn’t need an audience.\n",
    "\n",
    "## Managing Files\n",
    "\n",
    "Another important skill was **file management**.  \n",
    "I worked with creating, renaming, and organizing files so that projects didn’t turn into a giant mess. It wasn’t just about dragging and dropping—it was about learning how the **command line** can control files, and how GitHub keeps track of all the changes. It’s like having a time machine for code.\n",
    "\n",
    "## GitHub Pages\n",
    "\n",
    "The coolest thing so far has been setting up **GitHub Pages**.  \n",
    "I learned how to turn a simple repository into a live website (just like this blog). I had to use front matter (the section above this post) to control the layout, title, and description. It made me realize how coding isn’t only about solving problems—it can also be creative, like designing your own corner of the internet.\n",
    "\n",
    "## Debugging (and Jokes)\n",
    "\n",
    "Of course, no programming class is complete without a little debugging.  \n",
    "Sometimes my code didn’t run, and I had to figure out why. But every bug also gave me a laugh. Here’s one of my favorite computer jokes so far:\n",
    "\n",
    "> Why do programmers prefer dark mode?  \n",
    "> Because the light attracts bugs. 🐛\n",
    "\n",
    "---\n",
    "\n",
    "This blog is just the start. I’ll keep adding posts as I learn more—whether it’s Python tricks, web design, or just more bad programming jokes.\n"
   ]
  },
  {
   "cell_type": "raw",
   "metadata": {},
   "source": []
  },
  {
   "cell_type": "markdown",
   "metadata": {},
   "source": []
  },
  {
   "cell_type": "markdown",
   "metadata": {},
   "source": []
  },
  {
   "cell_type": "code",
   "execution_count": null,
   "metadata": {},
   "outputs": [],
   "source": []
  },
  {
   "cell_type": "markdown",
   "metadata": {},
   "source": []
  },
  {
   "cell_type": "code",
   "execution_count": null,
   "metadata": {},
   "outputs": [],
   "source": []
  }
 ],
 "metadata": {
  "language_info": {
   "name": "python"
  }
 },
 "nbformat": 4,
 "nbformat_minor": 2
}
