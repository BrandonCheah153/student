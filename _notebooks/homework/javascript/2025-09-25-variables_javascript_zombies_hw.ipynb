{
 "cells": [
  {
   "cell_type": "raw",
   "id": "5d9d659b",
   "metadata": {
    "vscode": {
     "languageId": "raw"
    }
   },
   "source": [
    "---\n",
    "layout: post\n",
    "title: Variables & Assignments\n",
    "description: This page will provide homework for the variables and assigmnets lesson.\n",
    "permalink: /js/variables/zombies/hw\n",
    "breadcrumb: True\n",
    "Author: Ethan Patel, Tanay Paranjpe, Neil Manjrekar\n",
    "---"
   ]
  },
  {
   "cell_type": "markdown",
   "id": "4f2bb0f9",
   "metadata": {},
   "source": [
    "## Javascript Variables HW"
   ]
  },
  {
   "cell_type": "code",
   "execution_count": 7,
   "id": "a349231f",
   "metadata": {
    "vscode": {
     "languageId": "javascript"
    }
   },
   "outputs": [
    {
     "name": "stdout",
     "output_type": "stream",
     "text": [
      "Name: Brandon Cheah\n",
      "Age: 17\n",
      "City: Irvine\n",
      "Favorite color: Blue\n",
      "Favorite food: Sushi\n",
      "Favorite movie: Spider-Man\n",
      "Favorite song: Viva La Vida\n",
      "Student? True\n",
      "Has pet? False\n",
      "Online? True\n",
      "Likes music? True\n"
     ]
    }
   ],
   "source": [
    "# Part 1\n",
    "# Personal info\n",
    "myName = \"Brandon Cheah\"    # Fill in your name\n",
    "myAge = 17                  # Fill in your age (number, no quotes)\n",
    "myCity = \"San Diego\"        # Fill in the city where you live\n",
    "\n",
    "# Part 2\n",
    "# Preferences\n",
    "favoriteColor = \"Blue\"         # Your favorite color\n",
    "favoriteFood = \"Rice noodles\"  # Your favorite food\n",
    "favoriteMovie = \"Spider-Man\"   # Your favorite movie\n",
    "favoriteSong = \"Viva La Vida\"  # Your favorite song\n",
    "\n",
    "# Part 3\n",
    "# Reassign some variables (you can change their values later)\n",
    "favoriteFood = \"Sushi\"     # Change your favorite food\n",
    "myCity = \"Irvine\"          # Change your city\n",
    "hasPet = False             # true or false (Boolean)\n",
    "\n",
    "# Part 4\n",
    "# Add some more details\n",
    "isStudent = True\n",
    "isOnline = True\n",
    "likesMusic = True\n",
    "\n",
    "# Part 5: Print Your Life Profile\n",
    "print(\"Name:\", myName)\n",
    "print(\"Age:\", myAge)\n",
    "print(\"City:\", myCity)\n",
    "print(\"Favorite color:\", favoriteColor)\n",
    "print(\"Favorite food:\", favoriteFood)\n",
    "print(\"Favorite movie:\", favoriteMovie)\n",
    "print(\"Favorite song:\", favoriteSong)\n",
    "print(\"Student?\", isStudent)\n",
    "print(\"Has pet?\", hasPet)\n",
    "print(\"Online?\", isOnline)\n",
    "print(\"Likes music?\", likesMusic)\n"
   ]
  }
 ],
 "metadata": {
  "kernelspec": {
   "display_name": "venv",
   "language": "python",
   "name": "python3"
  },
  "language_info": {
   "codemirror_mode": {
    "name": "ipython",
    "version": 3
   },
   "file_extension": ".py",
   "mimetype": "text/x-python",
   "name": "python",
   "nbconvert_exporter": "python",
   "pygments_lexer": "ipython3",
   "version": "3.13.7"
  }
 },
 "nbformat": 4,
 "nbformat_minor": 5
}
