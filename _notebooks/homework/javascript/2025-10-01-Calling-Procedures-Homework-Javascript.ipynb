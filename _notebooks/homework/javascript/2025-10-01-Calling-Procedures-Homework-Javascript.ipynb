{
 "cells": [
  {
   "cell_type": "code",
   "execution_count": null,
   "metadata": {},
   "outputs": [],
   "source": [
    "---\n",
    "layout: post\n",
    "title: Coding Concept - Calling Procedures \n",
    "description: Understanding Calling Procedures in Python and JavaScript\n",
    "categories: [Javascript Homework]\n",
    "permalink: /csp/big-idea-three/callingprocedures/javascript/hw/p3/syntaxterrors\n",
    "author: Avantika\n",
    "---"
   ]
  },
  {
   "cell_type": "markdown",
   "metadata": {
    "vscode": {
     "languageId": "css"
    }
   },
   "source": [
    "<div align=\"center\" style=\"margin-bottom: 2em;\">\n",
    "  <a href=\"{{ site.baseurl }}/csp/big-idea-three/callingprocedures/lesson/p3/syntaxterrors\"\n",
    "     style=\"\n",
    "      display: inline-block;\n",
    "      background: linear-gradient(90deg, #2563eb 0%, #1e40af 100%);\n",
    "      color: white;\n",
    "      padding: 0.85em 2.2em;\n",
    "      border-radius: 0.6em;\n",
    "      font-weight: bold;\n",
    "      text-decoration: none;\n",
    "      font-size: 1.15em;\n",
    "      box-shadow: 0 4px 16px rgba(30,64,175,0.18), 0 1.5px 4px rgba(0,0,0,0.10);\n",
    "      transition: \n",
    "        background 0.2s,\n",
    "        transform 0.15s,\n",
    "        box-shadow 0.2s;\n",
    "    \"\n",
    "    onmouseover=\"this.style.transform='scale(1.045)'; this.style.boxShadow='0 8px 24px rgba(30,64,175,0.22), 0 2px 8px rgba(0,0,0,0.13)';\"\n",
    "    onmouseout=\"this.style.transform='scale(1)'; this.style.boxShadow='0 4px 16px rgba(30,64,175,0.18), 0 1.5px 4px rgba(0,0,0,0.10)';\"\n",
    "  >\n",
    "    Calling Procedures Lesson\n",
    "  </a>\n",
    "</div>"
   ]
  },
  {
   "cell_type": "markdown",
   "metadata": {
    "vscode": {
     "languageId": "plaintext"
    }
   },
   "source": [
    "Calling procedures Homework"
   ]
  },
  {
   "cell_type": "code",
   "execution_count": null,
   "metadata": {
    "vscode": {
     "languageId": "javascript"
    }
   },
   "outputs": [],
   "source": [
    "%%javascript\n",
    "// Homework calling procedures in javascript\n",
    "\n",
    "public class CallingProceduresHomework {\n",
    "\n",
    "    // task 1 Write a procedure that takes a number and returns its square root.\n",
    "    public static double squareRoot(double n) {\n",
    "        return Math.sqrt(n);\n",
    "    }\n",
    "\n",
    "    // 2. Write a procedure that takes two numbers and returns the greater one.\n",
    "    public static int maxNumber(int a, int b) {\n",
    "        return (a > b) ? a : b;\n",
    "    }\n",
    "\n",
    "    // 3. Write a procedure that takes a string and returns it in uppercase.\n",
    "    public static String toUpper(String text) {\n",
    "        return text.toUpperCase();\n",
    "    }\n",
    "\n",
    "    // 4. Write a procedure that takes an array of numbers and returns the largest.\n",
    "    public static int largestInArray(int[] numbers) {\n",
    "        int max = numbers[0];\n",
    "        for (int num : numbers) {\n",
    "            if (num > max) {\n",
    "                max = num;\n",
    "            }\n",
    "        }\n",
    "        return max;\n",
    "    }\n",
    "\n",
    "    // 5. Write a procedure that checks if a number is even.\n",
    "    public static boolean isEven(int n) {\n",
    "        return n % 2 == 0;\n",
    "    }\n",
    "\n",
    "    public static void main(String[] args) {\n",
    "        // Test procedure calls\n",
    "\n",
    "        System.out.println(squareRoot(16));   // 4.0\n",
    "        System.out.println(maxNumber(7, 12)); // 12\n",
    "        System.out.println(toUpper(\"hello\")); // HELLO\n",
    "\n",
    "        int[] nums = {3, 9, 2, 5, 11};\n",
    "        System.out.println(largestInArray(nums)); // 11\n",
    "\n",
    "        System.out.println(isEven(10)); // true\n",
    "        System.out.println(isEven(7));  // false\n",
    "    }\n",
    "}\n"
   ]
  },
  {
   "cell_type": "markdown",
   "metadata": {},
   "source": [
    "Second "
   ]
  },
  {
   "cell_type": "code",
   "execution_count": 5,
   "metadata": {
    "vscode": {
     "languageId": "javascript"
    }
   },
   "outputs": [
    {
     "data": {
      "application/javascript": "// Homework: Calling Procedures in Java (Practice Problems)\n\n// 1. Write a procedure that takes a number and returns its square root.\nfunction squareRoot(n) {\n  return Math.sqrt(n);\n}\n\n// 2. Write a procedure that takes two numbers and returns the greater one.\nfunction maxNumber(a, b) {\n  return (a > b) ? a : b;\n}\n\n// 3. Write a procedure that takes a string and returns it in uppercase.\nfunction toUpper(text) {\n  return text.toUpperCase();\n}\n\n// 4. Write a procedure that takes an array of numbers and returns the largest.\nfunction largestInArray(numbers) {\n  let max = numbers[0];\n  for (const num of numbers) {\n    if (num > max) max = num;\n  }\n  return max;\n}\n\n// 5. Write a procedure that checks if a number is even.\nfunction isEven(n) {\n  return n % 2 === 0;\n}\n\n// ✨ Homework: Call each procedure below with your own test values.\n// Example: console.log(cube(3));\n\n// 1. Call squareRoot()\nconsole.log(squareRoot(25)); // 5\n\n// 2. Call maxNumber()\nconsole.log(maxNumber(42, 17)); // 42\n\n// 3. Call toUpper()\nconsole.log(toUpper(\"hello world\")); // HELLO WORLD\n\n// 4. Call largestInArray()\nconst nums = [8, 15, 3, 27, 10];\nconsole.log(largestInArray(nums)); // 27\n\n// 5. Call isEven()\nconsole.log(isEven(12)); // true\nconsole.log(isEven(9));  // false\n",
      "text/plain": [
       "<IPython.core.display.Javascript object>"
      ]
     },
     "metadata": {},
     "output_type": "display_data"
    }
   ],
   "source": [
    "%%javascript\n",
    "// Homework: Calling Procedures in Java (Practice Problems)\n",
    "\n",
    "// 1. Write a procedure that takes a number and returns its square root.\n",
    "function squareRoot(n) {\n",
    "  return Math.sqrt(n);\n",
    "}\n",
    "\n",
    "// 2. Write a procedure that takes two numbers and returns the greater one.\n",
    "function maxNumber(a, b) {\n",
    "  return (a > b) ? a : b;\n",
    "}\n",
    "\n",
    "// 3. Write a procedure that takes a string and returns it in uppercase.\n",
    "function toUpper(text) {\n",
    "  return text.toUpperCase();\n",
    "}\n",
    "\n",
    "// 4. Write a procedure that takes an array of numbers and returns the largest.\n",
    "function largestInArray(numbers) {\n",
    "  let max = numbers[0];\n",
    "  for (const num of numbers) {\n",
    "    if (num > max) max = num;\n",
    "  }\n",
    "  return max;\n",
    "}\n",
    "\n",
    "// 5. Write a procedure that checks if a number is even.\n",
    "function isEven(n) {\n",
    "  return n % 2 === 0;\n",
    "}\n",
    "\n",
    "// ✨ Homework: Call each procedure below with your own test values.\n",
    "// Example: console.log(cube(3));\n",
    "\n",
    "// 1. Call squareRoot()\n",
    "console.log(squareRoot(25)); // 5\n",
    "\n",
    "// 2. Call maxNumber()\n",
    "console.log(maxNumber(42, 17)); // 42\n",
    "\n",
    "// 3. Call toUpper()\n",
    "console.log(toUpper(\"hello world\")); // HELLO WORLD\n",
    "\n",
    "// 4. Call largestInArray()\n",
    "const nums = [8, 15, 3, 27, 10];\n",
    "console.log(largestInArray(nums)); // 27\n",
    "\n",
    "// 5. Call isEven()\n",
    "console.log(isEven(12)); // true\n",
    "console.log(isEven(9));  // false\n"
   ]
  }
 ],
 "metadata": {
  "kernelspec": {
   "display_name": "venv",
   "language": "python",
   "name": "python3"
  },
  "language_info": {
   "codemirror_mode": {
    "name": "ipython",
    "version": 3
   },
   "file_extension": ".py",
   "mimetype": "text/x-python",
   "name": "python",
   "nbconvert_exporter": "python",
   "pygments_lexer": "ipython3",
   "version": "3.13.7"
  }
 },
 "nbformat": 4,
 "nbformat_minor": 2
}
